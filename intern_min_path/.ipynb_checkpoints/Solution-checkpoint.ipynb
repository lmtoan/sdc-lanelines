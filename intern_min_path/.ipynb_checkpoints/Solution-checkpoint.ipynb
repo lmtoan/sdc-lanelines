{
 "cells": [
  {
   "cell_type": "code",
   "execution_count": 15,
   "metadata": {},
   "outputs": [],
   "source": [
    "flat_triag = [\"*\"] # Start Marker\n",
    "for line in open('small_triangle.txt'):\n",
    "    flat_triag += list(map(int, list(filter(None, line.rstrip().split(\" \")))))"
   ]
  },
  {
   "cell_type": "code",
   "execution_count": 16,
   "metadata": {},
   "outputs": [
    {
     "name": "stdout",
     "output_type": "stream",
     "text": [
      "['*', 79, 82, 4, 86, 93, 64, 34, 30, 17, 44, 41, 79, 83, 33, 86, 10, 34, 55, 92, 26, 23, 54, 84, 30, 79, 40, 30, 65, 94, 64, 79, 36, 79, 78, 72, 36, 12, 88, 25, 57, 72, 37, 37, 45, 26, 92, 24, 7, 7, 4, 48, 25, 60, 54, 72]\n"
     ]
    }
   ],
   "source": [
    "print(flat_triag)"
   ]
  },
  {
   "cell_type": "code",
   "execution_count": 22,
   "metadata": {},
   "outputs": [
    {
     "name": "stdout",
     "output_type": "stream",
     "text": [
      "1 2 3 55\n",
      "3\n",
      "3 6 7 55\n",
      "7\n",
      "7 14 15 55\n",
      "14\n",
      "14 28 29 55\n",
      "28\n",
      "28 56 57 55\n",
      "56\n"
     ]
    },
    {
     "ename": "IndexError",
     "evalue": "list index out of range",
     "output_type": "error",
     "traceback": [
      "\u001b[0;31m---------------------------------------------------------------------------\u001b[0m",
      "\u001b[0;31mIndexError\u001b[0m                                Traceback (most recent call last)",
      "\u001b[0;32m<ipython-input-22-5190858aa2ba>\u001b[0m in \u001b[0;36m<module>\u001b[0;34m()\u001b[0m\n\u001b[1;32m     17\u001b[0m     \u001b[0mchild\u001b[0m \u001b[0;34m=\u001b[0m \u001b[0mget_smaller_child\u001b[0m\u001b[0;34m(\u001b[0m\u001b[0mpos\u001b[0m\u001b[0;34m,\u001b[0m \u001b[0mflat_triag\u001b[0m\u001b[0;34m,\u001b[0m \u001b[0mn\u001b[0m\u001b[0;34m)\u001b[0m\u001b[0;34m\u001b[0m\u001b[0m\n\u001b[1;32m     18\u001b[0m     \u001b[0mprint\u001b[0m\u001b[0;34m(\u001b[0m\u001b[0mchild\u001b[0m\u001b[0;34m)\u001b[0m\u001b[0;34m\u001b[0m\u001b[0m\n\u001b[0;32m---> 19\u001b[0;31m     \u001b[0mcost\u001b[0m \u001b[0;34m+=\u001b[0m \u001b[0mflat_triag\u001b[0m\u001b[0;34m[\u001b[0m\u001b[0mchild\u001b[0m\u001b[0;34m]\u001b[0m\u001b[0;34m\u001b[0m\u001b[0m\n\u001b[0m\u001b[1;32m     20\u001b[0m     \u001b[0mpos\u001b[0m \u001b[0;34m=\u001b[0m \u001b[0mchild\u001b[0m\u001b[0;34m\u001b[0m\u001b[0m\n",
      "\u001b[0;31mIndexError\u001b[0m: list index out of range"
     ]
    }
   ],
   "source": [
    "def get_smaller_child(pos, ls, n):\n",
    "    left = pos * 2\n",
    "    right = pos * 2 + 1\n",
    "    print(pos, left, right, n)\n",
    "    if right > n:\n",
    "        return left\n",
    "    else:\n",
    "        if ls[left] < ls[right]:\n",
    "            return left\n",
    "        else:\n",
    "            return right\n",
    "\n",
    "cost = flat_triag[1]\n",
    "n = len(flat_triag) - 1\n",
    "pos = 1\n",
    "while pos <= (n - 2):\n",
    "    child = get_smaller_child(pos, flat_triag, n)\n",
    "    print(child)\n",
    "    cost += flat_triag[child]\n",
    "    pos = child"
   ]
  },
  {
   "cell_type": "code",
   "execution_count": 36,
   "metadata": {},
   "outputs": [
    {
     "name": "stdout",
     "output_type": "stream",
     "text": [
      "85\n",
      "[[79, -1, -1, -1, -1, -1, -1, -1, -1, -1], [82, 4, -1, -1, -1, -1, -1, -1, -1, -1], [86, 93, 64, -1, -1, -1, -1, -1, -1, -1], [34, 30, 17, 44, -1, -1, -1, -1, -1, -1], [41, 79, 83, 33, 86, -1, -1, -1, -1, -1], [10, 34, 55, 92, 26, 23, -1, -1, -1, -1], [54, 84, 30, 79, 40, 30, 65, -1, -1, -1], [94, 64, 79, 36, 79, 78, 72, 36, -1, -1], [12, 88, 25, 57, 72, 37, 37, 45, 26, -1], [92, 24, 7, 7, 4, 48, 25, 60, 54, 72]]\n",
      "387\n",
      "[[79, -1, -1, -1, -1, -1, -1, -1, -1, -1], [82, 4, -1, -1, -1, -1, -1, -1, -1, -1], [86, 93, 64, -1, -1, -1, -1, -1, -1, -1], [34, 30, 17, 44, -1, -1, -1, -1, -1, -1], [41, 79, 83, 33, 86, -1, -1, -1, -1, -1], [10, 34, 55, 92, 26, 23, -1, -1, -1, -1], [54, 84, 30, 79, 40, 30, 65, -1, -1, -1], [94, 64, 79, 36, 79, 78, 72, 36, -1, -1], [12, 88, 25, 57, 72, 37, 37, 45, 26, -1], [92, 24, 7, 7, 4, 48, 25, 60, 54, 72]]\n",
      "387\n"
     ]
    }
   ],
   "source": [
    "def fill_triag(filename):\n",
    "    out = []\n",
    "    max_length = 0\n",
    "    for line in open('small_triangle.txt', 'r'):\n",
    "        row = list(map(int, list(filter(None, line.rstrip().split(\" \")))))\n",
    "        max_length = len(row)\n",
    "        out.append(row)\n",
    "    \n",
    "    for row in out:\n",
    "        add = [-1 for i in range(max_length-len(row))]\n",
    "        row += add\n",
    "    # Fill empty with -1\n",
    "    return out\n",
    "\n",
    "def find_min_path(mat):\n",
    "    for i in range(len(mat)-2, -1, -1):\n",
    "        for j in range(len(mat)-2, -1, -1):\n",
    "            if mat[i][j] > 0:\n",
    "                left = mat[i+1][j]\n",
    "                right = mat[i+1][j+1]\n",
    "                if left < 0 and right < 0: # Empty path\n",
    "                    mat[i][j] = mat[i][j] # No update\n",
    "                elif left < 0 and right > 0: # Right-only path\n",
    "                    mat[i][j] += right\n",
    "                elif left > 0 and right < 0: # Left-only path\n",
    "                    mat[i][j] += left\n",
    "                else:\n",
    "                    mat[i][j] += min(left, right)\n",
    "    return mat[0][0]\n",
    "\n",
    "mat = [[79, -1, -1], [82, 4, -1], [86, 93, 2]]\n",
    "print(find_min_path(mat))\n",
    "print(fill_triag(\"small_triangle.txt\"))\n",
    "print(find_min_path(fill_triag(\"small_triangle.txt\")))\n",
    "print(fill_triag(\"large_triangle.txt\"))\n",
    "print(find_min_path(fill_triag(\"large_triangle.txt\")))"
   ]
  },
  {
   "cell_type": "code",
   "execution_count": null,
   "metadata": {
    "collapsed": true
   },
   "outputs": [],
   "source": []
  },
  {
   "cell_type": "code",
   "execution_count": null,
   "metadata": {
    "collapsed": true
   },
   "outputs": [],
   "source": []
  }
 ],
 "metadata": {
  "kernelspec": {
   "display_name": "Python 3",
   "language": "python",
   "name": "python3"
  },
  "language_info": {
   "codemirror_mode": {
    "name": "ipython",
    "version": 3
   },
   "file_extension": ".py",
   "mimetype": "text/x-python",
   "name": "python",
   "nbconvert_exporter": "python",
   "pygments_lexer": "ipython3",
   "version": "3.6.3"
  }
 },
 "nbformat": 4,
 "nbformat_minor": 2
}
